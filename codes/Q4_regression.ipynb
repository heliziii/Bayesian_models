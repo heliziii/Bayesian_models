{
 "cells": [
  {
   "cell_type": "code",
   "execution_count": 1,
   "id": "9e090d76",
   "metadata": {},
   "outputs": [],
   "source": [
    "import pandas as pd\n",
    "import numpy as np\n",
    "import csv\n",
    "from numpy.linalg import inv"
   ]
  },
  {
   "cell_type": "code",
   "execution_count": 2,
   "id": "ec978619",
   "metadata": {},
   "outputs": [],
   "source": [
    "##loading data\n",
    "stock_2000 = pd.read_csv(\"nasdaq00.txt\", header = None)[0].to_list()\n",
    "stock_2001 = pd.read_csv(\"nasdaq01.txt\", header = None)[0].to_list()"
   ]
  },
  {
   "cell_type": "code",
   "execution_count": 3,
   "id": "a391b506",
   "metadata": {},
   "outputs": [
    {
     "name": "stdout",
     "output_type": "stream",
     "text": [
      "[[3.65159733e+09 3.64553007e+09 3.64024608e+09]\n",
      " [3.64553007e+09 3.64300188e+09 3.63752268e+09]\n",
      " [3.64024608e+09 3.63752268e+09 3.63556951e+09]]\n",
      "[3.63403032e+09 3.63120829e+09 3.62909744e+09]\n",
      "Coefficients =\n",
      "[0.03189569 0.01560133 0.95067337]\n"
     ]
    }
   ],
   "source": [
    "#Q1\n",
    "X = []\n",
    "Y = stock_2000[3:]\n",
    "for i in range(len(stock_2000) - 3):\n",
    "    X.append(stock_2000[i:i+3])\n",
    "X = np.array(X)\n",
    "\n",
    "A = np.zeros((3,3))\n",
    "b = np.zeros(3)\n",
    "for x in X:\n",
    "    A += (np.matmul(np.matrix(x).T,np.matrix(x)))\n",
    "for i in range(len(X)):\n",
    "    b += np.dot(Y[i], X[i])\n",
    "    \n",
    "print(A)\n",
    "print(b)\n",
    "\n",
    "W = np.matmul(inv(A),b)\n",
    "print(\"Coefficients =\")\n",
    "print(W)"
   ]
  },
  {
   "cell_type": "code",
   "execution_count": 10,
   "id": "8125216e",
   "metadata": {},
   "outputs": [
    {
     "name": "stdout",
     "output_type": "stream",
     "text": [
      "RMSE for 2000 = 117.90844361778286\n",
      "RMSE for 2001 = 54.63604967519947\n"
     ]
    }
   ],
   "source": [
    "#Q2\n",
    "\n",
    "predict_2000 = np.matmul(X,W)\n",
    "\n",
    "X_2001 = []\n",
    "for i in range(len(stock_2001) - 3):\n",
    "    X_2001.append(stock_2001[i:i+3])\n",
    "predict_2001 = np.matmul(X_2001,W)\n",
    "Y_2001 = stock_2001[3:]\n",
    "rmse_2000 = np.sqrt(((Y - predict_2000) ** 2).mean())\n",
    "rmse_2001 = np.sqrt(((Y_2001 - predict_2001) ** 2).mean())\n",
    "print(\"RMSE for 2000 = \" + str(rmse_2000))\n",
    "print(\"RMSE for 2001 = \" + str(rmse_2001))"
   ]
  }
 ],
 "metadata": {
  "kernelspec": {
   "display_name": "Python 3 (ipykernel)",
   "language": "python",
   "name": "python3"
  },
  "language_info": {
   "codemirror_mode": {
    "name": "ipython",
    "version": 3
   },
   "file_extension": ".py",
   "mimetype": "text/x-python",
   "name": "python",
   "nbconvert_exporter": "python",
   "pygments_lexer": "ipython3",
   "version": "3.9.1"
  }
 },
 "nbformat": 4,
 "nbformat_minor": 5
}
